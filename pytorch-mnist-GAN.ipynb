{
 "cells": [
  {
   "cell_type": "code",
   "execution_count": 60,
   "metadata": {},
   "outputs": [
    {
     "data": {
      "text/plain": [
       "device(type='cuda')"
      ]
     },
     "execution_count": 60,
     "metadata": {},
     "output_type": "execute_result"
    }
   ],
   "source": [
    "# prerequisites\n",
    "import torch\n",
    "import torch.nn as nn\n",
    "import torch.nn.functional as F\n",
    "import torch.optim as optim\n",
    "from torchvision import datasets, transforms\n",
    "from torch.autograd import Variable\n",
    "from torchvision.utils import save_image\n",
    "import matplotlib.pyplot as plt\n",
    "import torchmetrics as tm\n",
    "\n",
    "# Device configuration\n",
    "torch.manual_seed(42)\n",
    "device = torch.device('cuda' if torch.cuda.is_available() else 'cpu')\n",
    "device"
   ]
  },
  {
   "cell_type": "code",
   "execution_count": 27,
   "metadata": {},
   "outputs": [
    {
     "name": "stdout",
     "output_type": "stream",
     "text": [
      "Is CUDA supported by this system? True\n",
      "CUDA version: 11.8\n",
      "ID of current CUDA device: 0\n",
      "Name of current CUDA device:NVIDIA GeForce GTX 1060 6GB\n"
     ]
    }
   ],
   "source": [
    "print(f\"Is CUDA supported by this system? {torch.cuda.is_available()}\")\n",
    "print(f\"CUDA version: {torch.version.cuda}\")\n",
    " \n",
    "# Storing ID of current CUDA device\n",
    "cuda_id = torch.cuda.current_device()\n",
    "print(f\"ID of current CUDA device: {torch.cuda.current_device()}\")\n",
    "       \n",
    "print(f\"Name of current CUDA device:{torch.cuda.get_device_name(cuda_id)}\")"
   ]
  },
  {
   "cell_type": "code",
   "execution_count": 88,
   "metadata": {},
   "outputs": [],
   "source": [
    "bs = 1000\n",
    "\n",
    "# MNIST Dataset\n",
    "transform = transforms.Compose([\n",
    "    transforms.ToTensor(),\n",
    "    transforms.Normalize(mean=(0.5), std=(0.5))])\n",
    "    \n",
    "    # transforms.Normalize(mean=(0.485, 0.456, 0.406), std=(0.229, 0.224, 0.225))])\n",
    "\n",
    "train_dataset = datasets.MNIST(root='./mnist_data/', train=True, transform=transform, download=True)\n",
    "test_dataset = datasets.MNIST(root='./mnist_data/', train=False, transform=transform, download=False)\n",
    "\n",
    "# Data Loader (Input Pipeline)\n",
    "train_loader = torch.utils.data.DataLoader(dataset=train_dataset, batch_size=bs, shuffle=True, num_workers=6)\n",
    "test_loader = torch.utils.data.DataLoader(dataset=test_dataset, batch_size=bs, shuffle=False, num_workers=6)"
   ]
  },
  {
   "cell_type": "code",
   "execution_count": 81,
   "metadata": {},
   "outputs": [],
   "source": [
    "class Generator(nn.Module):\n",
    "    def __init__(self, g_input_dim, g_output_dim):\n",
    "        super().__init__()       \n",
    "        self.fc1 = nn.Linear(g_input_dim, 256)\n",
    "        self.fc2 = nn.Linear(self.fc1.out_features, self.fc1.out_features*2)\n",
    "        self.fc3 = nn.Linear(self.fc2.out_features, self.fc2.out_features*2)\n",
    "        self.fc4 = nn.Linear(self.fc3.out_features, g_output_dim)\n",
    "    \n",
    "    # forward method\n",
    "    def forward(self, x): \n",
    "        x = F.leaky_relu(self.fc1(x), 0.2)\n",
    "        x = F.leaky_relu(self.fc2(x), 0.2)\n",
    "        x = F.leaky_relu(self.fc3(x), 0.2)\n",
    "        return torch.tanh(self.fc4(x))\n",
    "    \n",
    "class Discriminator(nn.Module):\n",
    "    def __init__(self, d_input_dim):\n",
    "        super().__init__()\n",
    "        self.fc1 = nn.Linear(d_input_dim, 1024)\n",
    "        self.fc2 = nn.Linear(self.fc1.out_features, self.fc1.out_features//2)\n",
    "        self.fc3 = nn.Linear(self.fc2.out_features, self.fc2.out_features//2)\n",
    "        self.fc4 = nn.Linear(self.fc3.out_features, 1)\n",
    "    \n",
    "    # forward method\n",
    "    def forward(self, x):\n",
    "        x = F.leaky_relu(self.fc1(x), 0.2)\n",
    "        x = F.dropout(x, 0.3)\n",
    "        x = F.leaky_relu(self.fc2(x), 0.2)\n",
    "        x = F.dropout(x, 0.3)\n",
    "        x = F.leaky_relu(self.fc3(x), 0.2)\n",
    "        x = F.dropout(x, 0.3)\n",
    "        return torch.sigmoid(self.fc4(x))"
   ]
  },
  {
   "cell_type": "code",
   "execution_count": 82,
   "metadata": {},
   "outputs": [],
   "source": [
    "# build network\n",
    "z_dim = 100\n",
    "mnist_dim = train_dataset.data.size(1) * train_dataset.data.size(2)\n",
    "\n",
    "G = Generator(g_input_dim = z_dim, g_output_dim = mnist_dim).to(device)\n",
    "D = Discriminator(mnist_dim).to(device)\n",
    "\n",
    "#Set evaluation metrics\n",
    "\n",
    "D_realacc = tm.classification.BinaryAccuracy().to(device)\n",
    "D_fakeacc = tm.classification.BinaryAccuracy().to(device)\n",
    "D_accuracy = tm.classification.BinaryAccuracy().to(device)\n",
    "G_accuracy = tm.classification.BinaryAccuracy().to(device)"
   ]
  },
  {
   "cell_type": "code",
   "execution_count": 83,
   "metadata": {},
   "outputs": [
    {
     "data": {
      "text/plain": [
       "Generator(\n",
       "  (fc1): Linear(in_features=100, out_features=256, bias=True)\n",
       "  (fc2): Linear(in_features=256, out_features=512, bias=True)\n",
       "  (fc3): Linear(in_features=512, out_features=1024, bias=True)\n",
       "  (fc4): Linear(in_features=1024, out_features=784, bias=True)\n",
       ")"
      ]
     },
     "execution_count": 83,
     "metadata": {},
     "output_type": "execute_result"
    }
   ],
   "source": [
    "G"
   ]
  },
  {
   "cell_type": "code",
   "execution_count": 72,
   "metadata": {},
   "outputs": [
    {
     "data": {
      "text/plain": [
       "Discriminator(\n",
       "  (fc1): Linear(in_features=784, out_features=1024, bias=True)\n",
       "  (fc2): Linear(in_features=1024, out_features=512, bias=True)\n",
       "  (fc3): Linear(in_features=512, out_features=256, bias=True)\n",
       "  (fc4): Linear(in_features=256, out_features=1, bias=True)\n",
       ")"
      ]
     },
     "execution_count": 72,
     "metadata": {},
     "output_type": "execute_result"
    }
   ],
   "source": [
    "D"
   ]
  },
  {
   "cell_type": "code",
   "execution_count": 84,
   "metadata": {},
   "outputs": [],
   "source": [
    "# loss\n",
    "criterion = nn.BCELoss() \n",
    "\n",
    "# optimizer\n",
    "lr = 0.0002 \n",
    "G_optimizer = optim.Adam(G.parameters(), lr = 0.0004)\n",
    "D_optimizer = optim.Adam(D.parameters(), lr = 0.0002)"
   ]
  },
  {
   "cell_type": "code",
   "execution_count": 85,
   "metadata": {},
   "outputs": [],
   "source": [
    "def D_train(x):\n",
    "    #=======================Train the discriminator=======================#\n",
    "\n",
    "    D.zero_grad()\n",
    "\n",
    "    # train discriminator on real\n",
    "    x_real, y_real = x.view(-1, mnist_dim), torch.ones(bs, 1)\n",
    "    x_real, y_real = Variable(x_real.to(device)), Variable(y_real.to(device))\n",
    "\n",
    "    D_output = D(x_real)\n",
    "    D_real_loss = criterion(D_output, y_real)\n",
    "    D_real_pred = D_output\n",
    "    D_real_target = torch.ones_like(D_real_pred)\n",
    "\n",
    "    # train discriminator on fake\n",
    "    z = Variable(torch.randn(bs, z_dim).to(device))\n",
    "    x_fake, y_fake = G(z), Variable(torch.zeros(bs, 1).to(device))\n",
    "\n",
    "    D_output = D(x_fake)\n",
    "    D_fake_loss = criterion(D_output, y_fake)\n",
    "    D_fake_pred = D_output\n",
    "    D_fake_target = torch.zeros_like(D_fake_pred)\n",
    "\n",
    "    # evaluation metrics\n",
    "    D_realacc.update(D_real_pred, D_real_target)\n",
    "    D_fakeacc.update(D_fake_pred, D_fake_target)\n",
    "    # D_accuracy.update([D_real_pred, D_fake_pred], [D_real_target, D_fake_target])\n",
    "    G_accuracy.update(D_fake_pred, D_real_target)\n",
    "    # gradient backprop & optimize ONLY D's parameters\n",
    "    D_loss = (D_real_loss + D_fake_loss) / 2 # average of real loss and fake loss\n",
    "    D_loss.backward()\n",
    "    D_optimizer.step()\n",
    "        \n",
    "    return  D_loss.data.item()"
   ]
  },
  {
   "cell_type": "code",
   "execution_count": 86,
   "metadata": {},
   "outputs": [],
   "source": [
    "def G_train(x):\n",
    "    #=======================Train the generator=======================#\n",
    "    G.zero_grad()\n",
    "\n",
    "    z = Variable(torch.randn(bs, z_dim).to(device))\n",
    "    y = Variable(torch.ones(bs, 1).to(device))\n",
    "\n",
    "    G_output = G(z)\n",
    "    D_output = D(G_output)\n",
    "    G_loss = criterion(D_output, y)\n",
    "\n",
    "    # gradient backprop & optimize ONLY G's parameters\n",
    "    G_loss.backward()\n",
    "    G_optimizer.step()\n",
    "        \n",
    "    return G_loss.data.item()"
   ]
  },
  {
   "cell_type": "code",
   "execution_count": 76,
   "metadata": {},
   "outputs": [
    {
     "name": "stdout",
     "output_type": "stream",
     "text": [
      "D moved to GPU and using data parallelism\n",
      "G moved to GPU and using data parallelism\n"
     ]
    }
   ],
   "source": [
    "if torch.cuda.is_available():\n",
    "    device = torch.device(\"cuda\")\n",
    "    D.to(device)\n",
    "    D = nn.DataParallel(D)\n",
    "    print(\"D moved to GPU and using data parallelism\")\n",
    "else:\n",
    "    print(\"GPU is not available, using CPU instead\")   \n",
    "\n",
    "if torch.cuda.is_available():\n",
    "    device = torch.device(\"cuda\")\n",
    "    G.to(device)\n",
    "    G = nn.DataParallel(G)\n",
    "    print(\"G moved to GPU and using data parallelism\")\n",
    "else:\n",
    "    print(\"GPU is not available, using CPU instead\")    "
   ]
  },
  {
   "cell_type": "code",
   "execution_count": 89,
   "metadata": {
    "scrolled": true
   },
   "outputs": [
    {
     "name": "stdout",
     "output_type": "stream",
     "text": [
      "[1/300]: loss_d: 0.003, loss_g: 7.457\n",
      "[2/300]: loss_d: 0.002, loss_g: 7.984\n",
      "[3/300]: loss_d: 0.001, loss_g: 7.956\n",
      "[4/300]: loss_d: 0.170, loss_g: 7.083\n",
      "[5/300]: loss_d: 0.073, loss_g: 5.021\n",
      "[6/300]: loss_d: 0.004, loss_g: 7.400\n",
      "[7/300]: loss_d: 0.002, loss_g: 7.414\n",
      "[8/300]: loss_d: 0.001, loss_g: 8.085\n",
      "[9/300]: loss_d: 0.001, loss_g: 8.169\n",
      "[10/300]: loss_d: 0.001, loss_g: 8.860\n",
      "[11/300]: loss_d: 0.001, loss_g: 8.915\n",
      "[12/300]: loss_d: 0.000, loss_g: 8.992\n",
      "[13/300]: loss_d: 0.000, loss_g: 9.469\n",
      "[14/300]: loss_d: 0.000, loss_g: 9.777\n",
      "[15/300]: loss_d: 0.000, loss_g: 10.050\n",
      "[16/300]: loss_d: 0.000, loss_g: 10.188\n",
      "[17/300]: loss_d: 0.000, loss_g: 10.255\n",
      "[18/300]: loss_d: 0.000, loss_g: 10.426\n",
      "[19/300]: loss_d: 0.000, loss_g: 10.643\n",
      "[20/300]: loss_d: 0.000, loss_g: 10.790\n",
      "[21/300]: loss_d: 0.000, loss_g: 10.975\n",
      "[22/300]: loss_d: 0.000, loss_g: 11.072\n",
      "[23/300]: loss_d: 0.000, loss_g: 11.169\n",
      "[24/300]: loss_d: 0.000, loss_g: 11.252\n",
      "[25/300]: loss_d: 0.000, loss_g: 11.458\n",
      "[26/300]: loss_d: 0.000, loss_g: 11.632\n",
      "[27/300]: loss_d: 0.000, loss_g: 11.785\n",
      "[28/300]: loss_d: 0.000, loss_g: 11.917\n",
      "[29/300]: loss_d: 0.000, loss_g: 11.932\n",
      "[30/300]: loss_d: 0.000, loss_g: 12.040\n",
      "[31/300]: loss_d: 0.000, loss_g: 12.156\n",
      "[32/300]: loss_d: 0.000, loss_g: 12.193\n",
      "[33/300]: loss_d: 0.000, loss_g: 12.267\n",
      "[34/300]: loss_d: 0.000, loss_g: 12.222\n",
      "[35/300]: loss_d: 0.000, loss_g: 12.208\n",
      "[36/300]: loss_d: 0.000, loss_g: 12.376\n",
      "[37/300]: loss_d: 0.000, loss_g: 12.496\n",
      "[38/300]: loss_d: 0.000, loss_g: 12.614\n",
      "[39/300]: loss_d: 0.000, loss_g: 12.715\n",
      "[40/300]: loss_d: 0.000, loss_g: 12.834\n",
      "[41/300]: loss_d: 0.000, loss_g: 12.931\n",
      "[42/300]: loss_d: 0.000, loss_g: 13.023\n",
      "[43/300]: loss_d: 0.000, loss_g: 13.044\n",
      "[44/300]: loss_d: 0.000, loss_g: 13.121\n",
      "[45/300]: loss_d: 0.000, loss_g: 13.104\n",
      "[46/300]: loss_d: 0.000, loss_g: 10.349\n",
      "[47/300]: loss_d: 0.009, loss_g: 15.523\n",
      "[48/300]: loss_d: 0.002, loss_g: 9.601\n",
      "[49/300]: loss_d: 0.004, loss_g: 9.559\n",
      "[50/300]: loss_d: 0.000, loss_g: 10.773\n",
      "[51/300]: loss_d: 0.000, loss_g: 11.608\n",
      "[52/300]: loss_d: 0.000, loss_g: 12.004\n",
      "[53/300]: loss_d: 0.000, loss_g: 12.323\n",
      "[54/300]: loss_d: 0.000, loss_g: 12.648\n",
      "[55/300]: loss_d: 0.000, loss_g: 12.282\n",
      "[56/300]: loss_d: 0.000, loss_g: 12.385\n",
      "[57/300]: loss_d: 0.000, loss_g: 12.974\n",
      "[58/300]: loss_d: 0.000, loss_g: 13.368\n",
      "[59/300]: loss_d: 0.000, loss_g: 13.594\n",
      "[60/300]: loss_d: 0.000, loss_g: 13.777\n",
      "[61/300]: loss_d: 0.000, loss_g: 13.940\n",
      "[62/300]: loss_d: 0.000, loss_g: 14.098\n",
      "[63/300]: loss_d: 0.000, loss_g: 14.111\n",
      "[64/300]: loss_d: 0.000, loss_g: 14.313\n",
      "[65/300]: loss_d: 0.000, loss_g: 14.448\n",
      "[66/300]: loss_d: 0.000, loss_g: 14.590\n",
      "[67/300]: loss_d: 0.000, loss_g: 14.711\n",
      "[68/300]: loss_d: 0.000, loss_g: 14.796\n",
      "[69/300]: loss_d: 0.000, loss_g: 14.904\n",
      "[70/300]: loss_d: 0.000, loss_g: 14.984\n",
      "[71/300]: loss_d: 0.000, loss_g: 15.059\n",
      "[72/300]: loss_d: 0.000, loss_g: 15.154\n",
      "[73/300]: loss_d: 0.000, loss_g: 14.993\n",
      "[74/300]: loss_d: 0.000, loss_g: 15.063\n",
      "[75/300]: loss_d: 0.000, loss_g: 15.212\n",
      "[76/300]: loss_d: 0.000, loss_g: 15.326\n",
      "[77/300]: loss_d: 0.000, loss_g: 15.423\n",
      "[78/300]: loss_d: 0.000, loss_g: 15.546\n",
      "[79/300]: loss_d: 0.000, loss_g: 15.437\n",
      "[80/300]: loss_d: 0.000, loss_g: 15.534\n",
      "[81/300]: loss_d: 0.000, loss_g: 15.670\n",
      "[82/300]: loss_d: 0.000, loss_g: 15.757\n",
      "[83/300]: loss_d: 0.000, loss_g: 15.848\n",
      "[84/300]: loss_d: 0.000, loss_g: 15.652\n",
      "[85/300]: loss_d: 0.000, loss_g: 15.777\n",
      "[86/300]: loss_d: 0.000, loss_g: 15.766\n",
      "[87/300]: loss_d: 0.000, loss_g: 15.790\n",
      "[88/300]: loss_d: 0.000, loss_g: 15.866\n",
      "[89/300]: loss_d: 0.000, loss_g: 15.994\n",
      "[90/300]: loss_d: 0.000, loss_g: 16.072\n",
      "[91/300]: loss_d: 0.000, loss_g: 15.966\n",
      "[92/300]: loss_d: 0.000, loss_g: 15.905\n",
      "[93/300]: loss_d: 0.000, loss_g: 16.072\n",
      "[94/300]: loss_d: 0.000, loss_g: 16.213\n",
      "[95/300]: loss_d: 0.000, loss_g: 16.332\n",
      "[96/300]: loss_d: 0.000, loss_g: 16.438\n",
      "[97/300]: loss_d: 0.000, loss_g: 16.539\n",
      "[98/300]: loss_d: 0.000, loss_g: 16.640\n",
      "[99/300]: loss_d: 0.000, loss_g: 16.721\n",
      "[100/300]: loss_d: 0.000, loss_g: 16.813\n",
      "[101/300]: loss_d: 0.000, loss_g: 16.869\n",
      "[102/300]: loss_d: 0.000, loss_g: 16.953\n",
      "[103/300]: loss_d: 0.000, loss_g: 17.021\n",
      "[104/300]: loss_d: 0.000, loss_g: 17.087\n",
      "[105/300]: loss_d: 0.000, loss_g: 17.150\n",
      "[106/300]: loss_d: 0.000, loss_g: 17.220\n",
      "[107/300]: loss_d: 0.000, loss_g: 17.216\n",
      "[108/300]: loss_d: 0.000, loss_g: 17.280\n",
      "[109/300]: loss_d: 0.000, loss_g: 17.333\n",
      "[110/300]: loss_d: 0.000, loss_g: 17.388\n",
      "[111/300]: loss_d: 0.000, loss_g: 17.455\n",
      "[112/300]: loss_d: 0.000, loss_g: 17.507\n",
      "[113/300]: loss_d: 0.000, loss_g: 17.545\n",
      "[114/300]: loss_d: 0.000, loss_g: 17.588\n",
      "[115/300]: loss_d: 0.000, loss_g: 17.272\n",
      "[116/300]: loss_d: 0.000, loss_g: 16.387\n",
      "[117/300]: loss_d: 0.001, loss_g: 15.802\n",
      "[118/300]: loss_d: 0.002, loss_g: 18.110\n",
      "[119/300]: loss_d: 0.000, loss_g: 14.529\n",
      "[120/300]: loss_d: 0.000, loss_g: 15.707\n",
      "[121/300]: loss_d: 0.000, loss_g: 15.784\n",
      "[122/300]: loss_d: 0.000, loss_g: 15.765\n",
      "[123/300]: loss_d: 0.000, loss_g: 15.687\n",
      "[124/300]: loss_d: 0.000, loss_g: 16.442\n",
      "[125/300]: loss_d: 0.000, loss_g: 16.775\n",
      "[126/300]: loss_d: 0.000, loss_g: 16.997\n",
      "[127/300]: loss_d: 0.000, loss_g: 17.198\n",
      "[128/300]: loss_d: 0.000, loss_g: 17.376\n",
      "[129/300]: loss_d: 0.000, loss_g: 17.351\n",
      "[130/300]: loss_d: 0.000, loss_g: 17.110\n",
      "[131/300]: loss_d: 0.000, loss_g: 17.449\n",
      "[132/300]: loss_d: 0.000, loss_g: 17.707\n",
      "[133/300]: loss_d: 0.000, loss_g: 17.759\n",
      "[134/300]: loss_d: 0.000, loss_g: 17.975\n",
      "[135/300]: loss_d: 0.000, loss_g: 17.919\n",
      "[136/300]: loss_d: 0.000, loss_g: 17.838\n",
      "[137/300]: loss_d: 0.000, loss_g: 18.184\n",
      "[138/300]: loss_d: 0.000, loss_g: 18.376\n",
      "[139/300]: loss_d: 0.000, loss_g: 18.533\n",
      "[140/300]: loss_d: 0.000, loss_g: 18.674\n",
      "[141/300]: loss_d: 0.000, loss_g: 18.809\n",
      "[142/300]: loss_d: 0.000, loss_g: 18.866\n",
      "[143/300]: loss_d: 0.000, loss_g: 18.992\n",
      "[144/300]: loss_d: 0.000, loss_g: 19.113\n",
      "[145/300]: loss_d: 0.000, loss_g: 19.189\n",
      "[146/300]: loss_d: 0.000, loss_g: 19.266\n",
      "[147/300]: loss_d: 0.000, loss_g: 19.399\n",
      "[148/300]: loss_d: 0.000, loss_g: 19.519\n",
      "[149/300]: loss_d: 0.000, loss_g: 19.563\n",
      "[150/300]: loss_d: 0.000, loss_g: 19.587\n",
      "[151/300]: loss_d: 0.000, loss_g: 19.633\n",
      "[152/300]: loss_d: 0.000, loss_g: 19.705\n",
      "[153/300]: loss_d: 0.000, loss_g: 19.746\n",
      "[154/300]: loss_d: 0.000, loss_g: 19.824\n",
      "[155/300]: loss_d: 0.000, loss_g: 19.930\n",
      "[156/300]: loss_d: 0.000, loss_g: 19.993\n",
      "[157/300]: loss_d: 0.000, loss_g: 20.041\n",
      "[158/300]: loss_d: 0.000, loss_g: 20.067\n",
      "[159/300]: loss_d: 0.000, loss_g: 20.128\n"
     ]
    }
   ],
   "source": [
    "n_epoch = 300\n",
    "D_losses, G_losses = [], []\n",
    "D_r_acc, D_f_acc = [], []\n",
    "D_acc, G_acc = [], []\n",
    "\n",
    "for epoch in range(1, n_epoch+1):           \n",
    "    \n",
    "    D_batch_losses, G_batch_losses = [], []\n",
    "\n",
    "\n",
    "\n",
    "    for batch_idx, (x, _) in enumerate(train_loader):\n",
    "        D_batch_losses.append(D_train(x))\n",
    "        G_batch_losses.append(G_train(x))\n",
    "\n",
    "\n",
    "    D_r_acc.append(D_realacc.compute())\n",
    "    D_f_acc.append(D_fakeacc.compute())\n",
    "    # D_acc.append(D_accuracy.compute())\n",
    "    G_acc.append(G_accuracy.compute())\n",
    "\n",
    "    D_epochloss = torch.mean(torch.FloatTensor(D_batch_losses))\n",
    "    G_epochloss = torch.mean(torch.FloatTensor(G_batch_losses))\n",
    "    D_losses.append(D_epochloss)\n",
    "    G_losses.append(G_epochloss)\n",
    "\n",
    "    D_realacc.reset()\n",
    "    D_fakeacc.reset()\n",
    "    # D_accuracy.reset()\n",
    "    G_accuracy.reset()\n",
    "        \n",
    "\n",
    "    if epoch % 10 == 0:\n",
    "        with torch.no_grad():\n",
    "            test_z = Variable(torch.randn(100, z_dim).to(device))\n",
    "            generated = G(test_z)\n",
    "            save_image(generated.view(generated.size(0), 1, 28, 28), './samples/sample_{}'.format(epoch) + '.png')\n",
    "\n",
    "\n",
    "    print('[%d/%d]: loss_d: %.3f, loss_g: %.3f' % (\n",
    "            (epoch), n_epoch, D_epochloss, G_epochloss))"
   ]
  },
  {
   "cell_type": "code",
   "execution_count": 14,
   "metadata": {},
   "outputs": [],
   "source": [
    "with torch.no_grad():\n",
    "    test_z = Variable(torch.randn(bs, z_dim).to(device))\n",
    "    generated = G(test_z)\n",
    "\n",
    "    save_image(generated.view(generated.size(0), 1, 28, 28), './samples/sample_' + '.png')"
   ]
  },
  {
   "cell_type": "code",
   "execution_count": 78,
   "metadata": {},
   "outputs": [
    {
     "data": {
      "text/plain": [
       "Text(0, 0.5, 'Loss')"
      ]
     },
     "execution_count": 78,
     "metadata": {},
     "output_type": "execute_result"
    },
    {
     "data": {
      "image/png": "[encoded data removed]",
      "text/plain": [
       "<Figure size 640x480 with 1 Axes>"
      ]
     },
     "metadata": {},
     "output_type": "display_data"
    }
   ],
   "source": [
    "plt.plot(D_losses, label=\"Discriminator Loss\")\n",
    "plt.plot(G_losses, label=\"Generator Loss\")\n",
    "plt.legend()\n",
    "plt.xlabel(\"No of Epochs\")\n",
    "plt.ylabel(\"Loss\")"
   ]
  },
  {
   "cell_type": "code",
   "execution_count": null,
   "metadata": {},
   "outputs": [],
   "source": []
  }
 ],
 "metadata": {
  "kernelspec": {
   "display_name": "Python 3",
   "language": "python",
   "name": "python3"
  },
  "language_info": {
   "codemirror_mode": {
    "name": "ipython",
    "version": 3
   },
   "file_extension": ".py",
   "mimetype": "text/x-python",
   "name": "python",
   "nbconvert_exporter": "python",
   "pygments_lexer": "ipython3",
   "version": "3.10.13"
  }
 },
 "nbformat": 4,
 "nbformat_minor": 2
}
